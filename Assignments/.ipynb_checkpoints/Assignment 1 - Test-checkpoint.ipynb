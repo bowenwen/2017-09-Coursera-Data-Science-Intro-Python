{
 "cells": [
  {
   "cell_type": "code",
   "execution_count": 1,
   "metadata": {
    "ExecuteTime": {
     "end_time": "2018-01-13T06:08:27.127165Z",
     "start_time": "2018-01-13T06:08:27.116166Z"
    }
   },
   "outputs": [
    {
     "data": {
      "text/plain": [
       "['a', 'b', 'c', 1, 2, 3]"
      ]
     },
     "execution_count": 1,
     "metadata": {},
     "output_type": "execute_result"
    }
   ],
   "source": [
    "['a', 'b', 'c'] + [1, 2, 3]"
   ]
  },
  {
   "cell_type": "code",
   "execution_count": 2,
   "metadata": {
    "ExecuteTime": {
     "end_time": "2018-01-13T06:08:52.975269Z",
     "start_time": "2018-01-13T06:08:52.971265Z"
    }
   },
   "outputs": [
    {
     "data": {
      "text/plain": [
       "function"
      ]
     },
     "execution_count": 2,
     "metadata": {},
     "output_type": "execute_result"
    }
   ],
   "source": [
    "type(lambda x: x+1)"
   ]
  },
  {
   "cell_type": "code",
   "execution_count": 3,
   "metadata": {
    "ExecuteTime": {
     "end_time": "2018-01-13T06:09:10.311956Z",
     "start_time": "2018-01-13T06:09:10.307459Z"
    }
   },
   "outputs": [
    {
     "data": {
      "text/plain": [
       "[0, 1, 4, 9, 16, 25, 36, 49, 64, 81]"
      ]
     },
     "execution_count": 3,
     "metadata": {},
     "output_type": "execute_result"
    }
   ],
   "source": [
    "[x**2 for x in range(10)]"
   ]
  },
  {
   "cell_type": "code",
   "execution_count": 5,
   "metadata": {
    "ExecuteTime": {
     "end_time": "2018-01-13T06:10:47.587308Z",
     "start_time": "2018-01-13T06:10:47.582308Z"
    }
   },
   "outputs": [
    {
     "data": {
      "text/plain": [
       "array([[ 0.7331707 ,  0.40887605,  0.87997883,  0.53600426,  0.12519621,\n",
       "         0.35032082],\n",
       "       [ 0.125551  ,  0.05619255,  0.82330134,  0.13447746,  0.78689129,\n",
       "         0.621714  ],\n",
       "       [ 0.32298707,  0.70454794,  0.40570944,  0.14145919,  0.09595048,\n",
       "         0.49446446],\n",
       "       [ 0.09000828,  0.8918413 ,  0.40855857,  0.53093034,  0.1606115 ,\n",
       "         0.28623371],\n",
       "       [ 0.17889527,  0.36267183,  0.7163152 ,  0.74872206,  0.81550644,\n",
       "         0.41107059],\n",
       "       [ 0.7037641 ,  0.23557845,  0.33985595,  0.2236826 ,  0.91723465,\n",
       "         0.19557788]])"
      ]
     },
     "execution_count": 5,
     "metadata": {},
     "output_type": "execute_result"
    }
   ],
   "source": [
    "import numpy\n",
    "r = numpy.random.random((6, 6))\n",
    "r"
   ]
  },
  {
   "cell_type": "code",
   "execution_count": 7,
   "metadata": {
    "ExecuteTime": {
     "end_time": "2018-01-13T06:10:58.736551Z",
     "start_time": "2018-01-13T06:10:58.732555Z"
    }
   },
   "outputs": [
    {
     "data": {
      "text/plain": [
       "array([ 0.7331707 ,  0.05619255,  0.40570944,  0.53093034,  0.81550644,\n",
       "        0.19557788])"
      ]
     },
     "execution_count": 7,
     "metadata": {},
     "output_type": "execute_result"
    }
   ],
   "source": [
    "r.reshape(36)[::7]\n"
   ]
  },
  {
   "cell_type": "code",
   "execution_count": 8,
   "metadata": {
    "ExecuteTime": {
     "end_time": "2018-01-13T06:11:27.287476Z",
     "start_time": "2018-01-13T06:11:27.282972Z"
    }
   },
   "outputs": [
    {
     "data": {
      "text/plain": [
       "array([[ 0.7331707 ,  0.40887605,  0.87997883,  0.53600426,  0.12519621,\n",
       "         0.35032082]])"
      ]
     },
     "execution_count": 8,
     "metadata": {},
     "output_type": "execute_result"
    }
   ],
   "source": [
    "r[::7]"
   ]
  },
  {
   "cell_type": "code",
   "execution_count": 9,
   "metadata": {
    "ExecuteTime": {
     "end_time": "2018-01-13T06:11:28.688192Z",
     "start_time": "2018-01-13T06:11:28.684185Z"
    }
   },
   "outputs": [
    {
     "data": {
      "text/plain": [
       "array([[ 0.7331707 ],\n",
       "       [ 0.125551  ],\n",
       "       [ 0.32298707],\n",
       "       [ 0.09000828],\n",
       "       [ 0.17889527],\n",
       "       [ 0.7037641 ]])"
      ]
     },
     "execution_count": 9,
     "metadata": {},
     "output_type": "execute_result"
    }
   ],
   "source": [
    "r[:,::7]"
   ]
  },
  {
   "cell_type": "code",
   "execution_count": 10,
   "metadata": {
    "ExecuteTime": {
     "end_time": "2018-01-13T06:11:44.912800Z",
     "start_time": "2018-01-13T06:11:44.907795Z"
    }
   },
   "outputs": [
    {
     "data": {
      "text/plain": [
       "array([[ 0.35032082],\n",
       "       [ 0.621714  ],\n",
       "       [ 0.49446446],\n",
       "       [ 0.28623371],\n",
       "       [ 0.41107059],\n",
       "       [ 0.19557788]])"
      ]
     },
     "execution_count": 10,
     "metadata": {},
     "output_type": "execute_result"
    }
   ],
   "source": [
    "r[0:6,::-7]"
   ]
  },
  {
   "cell_type": "code",
   "execution_count": 11,
   "metadata": {
    "ExecuteTime": {
     "end_time": "2018-01-13T06:11:58.376129Z",
     "start_time": "2018-01-13T06:11:58.372122Z"
    }
   },
   "outputs": [
    {
     "data": {
      "text/plain": [
       "array([[ 0.7331707 ,  0.87997883,  0.12519621],\n",
       "       [ 0.32298707,  0.40570944,  0.09595048],\n",
       "       [ 0.17889527,  0.7163152 ,  0.81550644]])"
      ]
     },
     "execution_count": 11,
     "metadata": {},
     "output_type": "execute_result"
    }
   ],
   "source": [
    "r[::2,::2]\n"
   ]
  },
  {
   "cell_type": "code",
   "execution_count": 12,
   "metadata": {
    "ExecuteTime": {
     "end_time": "2018-01-13T06:12:12.936276Z",
     "start_time": "2018-01-13T06:12:12.932273Z"
    }
   },
   "outputs": [
    {
     "data": {
      "text/plain": [
       "array([[ 0.40570944,  0.09595048],\n",
       "       [ 0.7163152 ,  0.81550644]])"
      ]
     },
     "execution_count": 12,
     "metadata": {},
     "output_type": "execute_result"
    }
   ],
   "source": [
    "r[2::2,2::2]\n"
   ]
  },
  {
   "cell_type": "code",
   "execution_count": 13,
   "metadata": {
    "ExecuteTime": {
     "end_time": "2018-01-13T06:12:32.818078Z",
     "start_time": "2018-01-13T06:12:32.812074Z"
    }
   },
   "outputs": [
    {
     "data": {
      "text/plain": [
       "array([[ 0.40570944,  0.14145919],\n",
       "       [ 0.40855857,  0.53093034]])"
      ]
     },
     "execution_count": 13,
     "metadata": {},
     "output_type": "execute_result"
    }
   ],
   "source": [
    "r[2:4,2:4]"
   ]
  },
  {
   "cell_type": "code",
   "execution_count": 14,
   "metadata": {
    "ExecuteTime": {
     "end_time": "2018-01-13T06:12:44.993867Z",
     "start_time": "2018-01-13T06:12:44.988863Z"
    }
   },
   "outputs": [
    {
     "data": {
      "text/plain": [
       "array([ 0.40570944,  0.53093034])"
      ]
     },
     "execution_count": 14,
     "metadata": {},
     "output_type": "execute_result"
    }
   ],
   "source": [
    "r[[2,3],[2,3]]"
   ]
  },
  {
   "cell_type": "code",
   "execution_count": null,
   "metadata": {
    "collapsed": true
   },
   "outputs": [],
   "source": []
  }
 ],
 "metadata": {
  "kernelspec": {
   "display_name": "Python [default]",
   "language": "python",
   "name": "python3"
  },
  "language_info": {
   "codemirror_mode": {
    "name": "ipython",
    "version": 3
   },
   "file_extension": ".py",
   "mimetype": "text/x-python",
   "name": "python",
   "nbconvert_exporter": "python",
   "pygments_lexer": "ipython3",
   "version": "3.6.2"
  }
 },
 "nbformat": 4,
 "nbformat_minor": 2
}
